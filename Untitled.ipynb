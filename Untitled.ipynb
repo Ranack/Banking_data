{
 "cells": [
  {
   "cell_type": "code",
   "execution_count": 55,
   "id": "6b06c9b8-2c12-4c41-a8b3-a2a16d5bb170",
   "metadata": {},
   "outputs": [],
   "source": [
    "import numpy as np\n",
    "import pandas as pd \n",
    "from sklearn.preprocessing import LabelEncoder\n",
    "from sklearn.model_selection import train_test_split\n",
    "import os\n",
    "import matplotlib.pyplot as plt\n",
    "import seaborn as sns"
   ]
  },
  {
   "cell_type": "code",
   "execution_count": 56,
   "id": "37e8a9fb-1f8c-495a-901e-0a3a5fd5984b",
   "metadata": {},
   "outputs": [
    {
     "name": "stdout",
     "output_type": "stream",
     "text": [
      "['application_test.csv', 'HomeCredit_columns_description.csv', 'POS_CASH_balance.csv', 'credit_card_balance.csv', 'installments_payments.csv', 'application_train.csv', 'bureau.csv', 'previous_application.csv', 'bureau_balance.csv', 'sample_submission.csv']\n"
     ]
    }
   ],
   "source": [
    "print(os.listdir(\"BankingData/data\"))"
   ]
  },
  {
   "cell_type": "code",
   "execution_count": 57,
   "id": "99c0fad1-7c96-4c82-ac0f-2a7bffc9897a",
   "metadata": {},
   "outputs": [
    {
     "name": "stdout",
     "output_type": "stream",
     "text": [
      "Training data shape:  (307511, 122)\n",
      "Train data shape:  (246008, 122)\n",
      "Test data shape:  (61503, 122)\n",
      "Train data head:\n",
      "         SK_ID_CURR  TARGET NAME_CONTRACT_TYPE CODE_GENDER FLAG_OWN_CAR  \\\n",
      "123473      243191       0         Cash loans           F            Y   \n",
      "10118       111778       0         Cash loans           M            N   \n",
      "64716       175057       1         Cash loans           M            Y   \n",
      "234940      372147       0         Cash loans           M            Y   \n",
      "236051      373412       0         Cash loans           M            N   \n",
      "\n",
      "       FLAG_OWN_REALTY  CNT_CHILDREN  AMT_INCOME_TOTAL  AMT_CREDIT  \\\n",
      "123473               N             0          171000.0    555273.0   \n",
      "10118                Y             1          157500.0    198085.5   \n",
      "64716                Y             0          135000.0    776304.0   \n",
      "234940               Y             1          164133.0    900000.0   \n",
      "236051               Y             0          225000.0    533668.5   \n",
      "\n",
      "        AMT_ANNUITY  ...  FLAG_DOCUMENT_18 FLAG_DOCUMENT_19 FLAG_DOCUMENT_20  \\\n",
      "123473      16366.5  ...                 0                0                0   \n",
      "10118       23638.5  ...                 0                0                0   \n",
      "64716       25173.0  ...                 0                0                0   \n",
      "234940      36787.5  ...                 0                0                0   \n",
      "236051      21294.0  ...                 0                0                0   \n",
      "\n",
      "       FLAG_DOCUMENT_21 AMT_REQ_CREDIT_BUREAU_HOUR AMT_REQ_CREDIT_BUREAU_DAY  \\\n",
      "123473                0                        0.0                       0.0   \n",
      "10118                 0                        0.0                       0.0   \n",
      "64716                 0                        0.0                       0.0   \n",
      "234940                0                        0.0                       0.0   \n",
      "236051                0                        0.0                       0.0   \n",
      "\n",
      "        AMT_REQ_CREDIT_BUREAU_WEEK  AMT_REQ_CREDIT_BUREAU_MON  \\\n",
      "123473                         0.0                        0.0   \n",
      "10118                          0.0                        0.0   \n",
      "64716                          0.0                        0.0   \n",
      "234940                         0.0                        0.0   \n",
      "236051                         0.0                        0.0   \n",
      "\n",
      "        AMT_REQ_CREDIT_BUREAU_QRT  AMT_REQ_CREDIT_BUREAU_YEAR  \n",
      "123473                        1.0                         1.0  \n",
      "10118                         0.0                         1.0  \n",
      "64716                         0.0                         5.0  \n",
      "234940                        1.0                         3.0  \n",
      "236051                        0.0                         4.0  \n",
      "\n",
      "[5 rows x 122 columns]\n",
      "Test data head:\n",
      "         SK_ID_CURR  TARGET NAME_CONTRACT_TYPE CODE_GENDER FLAG_OWN_CAR  \\\n",
      "245895      384575       0         Cash loans           M            Y   \n",
      "98194       214010       0         Cash loans           F            Y   \n",
      "36463       142232       0         Cash loans           F            Y   \n",
      "249923      389171       0         Cash loans           F            N   \n",
      "158389      283617       0         Cash loans           M            N   \n",
      "\n",
      "       FLAG_OWN_REALTY  CNT_CHILDREN  AMT_INCOME_TOTAL  AMT_CREDIT  \\\n",
      "245895               N             2          207000.0    465457.5   \n",
      "98194                Y             0          247500.0   1281712.5   \n",
      "36463                N             0          202500.0    495000.0   \n",
      "249923               Y             0          247500.0    254700.0   \n",
      "158389               Y             0          112500.0    308133.0   \n",
      "\n",
      "        AMT_ANNUITY  ...  FLAG_DOCUMENT_18 FLAG_DOCUMENT_19 FLAG_DOCUMENT_20  \\\n",
      "245895      52641.0  ...                 0                0                0   \n",
      "98194       48946.5  ...                 0                0                0   \n",
      "36463       39109.5  ...                 0                0                0   \n",
      "249923      24939.0  ...                 0                0                0   \n",
      "158389      15862.5  ...                 0                0                0   \n",
      "\n",
      "       FLAG_DOCUMENT_21 AMT_REQ_CREDIT_BUREAU_HOUR AMT_REQ_CREDIT_BUREAU_DAY  \\\n",
      "245895                0                        0.0                       0.0   \n",
      "98194                 0                        0.0                       0.0   \n",
      "36463                 0                        0.0                       0.0   \n",
      "249923                0                        0.0                       0.0   \n",
      "158389                0                        0.0                       0.0   \n",
      "\n",
      "        AMT_REQ_CREDIT_BUREAU_WEEK  AMT_REQ_CREDIT_BUREAU_MON  \\\n",
      "245895                         0.0                        1.0   \n",
      "98194                          0.0                        1.0   \n",
      "36463                          0.0                        1.0   \n",
      "249923                         0.0                        0.0   \n",
      "158389                         0.0                        0.0   \n",
      "\n",
      "        AMT_REQ_CREDIT_BUREAU_QRT  AMT_REQ_CREDIT_BUREAU_YEAR  \n",
      "245895                        0.0                         1.0  \n",
      "98194                         0.0                         3.0  \n",
      "36463                         0.0                         3.0  \n",
      "249923                        0.0                         0.0  \n",
      "158389                        0.0                         4.0  \n",
      "\n",
      "[5 rows x 122 columns]\n",
      "Les fichiers ont été exportés avec succès.\n"
     ]
    }
   ],
   "source": [
    "app_train = pd.read_csv('BankingData/data/application_train.csv')\n",
    "print('Training data shape: ', app_train.shape)\n",
    "app_train.head()\n",
    "\n",
    "# Séparer les données en ensembles de formation et de test\n",
    "train_data, test_data = train_test_split(app_train, test_size=0.3)\n",
    "\n",
    "# Afficher les formes des nouvelles bases de données\n",
    "print('Train data shape: ', train_data.shape)\n",
    "print('Test data shape: ', test_data.shape)\n",
    "\n",
    "# Afficher les premières lignes de chaque base de données\n",
    "print('Train data head:\\n', train_data.head())\n",
    "print('Test data head:\\n', test_data.head())\n",
    "\n",
    "# Exporter les ensembles train et test en fichiers CSV\n",
    "train_data.to_csv('BankingData/data/application_train_split.csv', index=False)\n",
    "test_data.to_csv('BankingData/data/application_test_split.csv', index=False)\n",
    "\n",
    "print('Les fichiers ont été exportés avec succès.')"
   ]
  },
  {
   "cell_type": "code",
   "execution_count": null,
   "id": "6044b4ba-cca0-4ea3-a9d7-8871ac08c007",
   "metadata": {},
   "outputs": [],
   "source": []
  }
 ],
 "metadata": {
  "kernelspec": {
   "display_name": "Python 3 (ipykernel)",
   "language": "python",
   "name": "python3"
  },
  "language_info": {
   "codemirror_mode": {
    "name": "ipython",
    "version": 3
   },
   "file_extension": ".py",
   "mimetype": "text/x-python",
   "name": "python",
   "nbconvert_exporter": "python",
   "pygments_lexer": "ipython3",
   "version": "3.11.7"
  }
 },
 "nbformat": 4,
 "nbformat_minor": 5
}
