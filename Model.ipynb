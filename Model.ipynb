{
 "cells": [
  {
   "cell_type": "markdown",
   "id": "3ea41e78-baae-4eea-8a95-7de5c90ac703",
   "metadata": {},
   "source": [
    "# Regression logistique"
   ]
  },
  {
   "cell_type": "code",
   "execution_count": 104,
   "id": "e99ecb5f-2214-42d0-9c57-b31bfe7656e0",
   "metadata": {},
   "outputs": [
    {
     "name": "stdout",
     "output_type": "stream",
     "text": [
      "Training data shape:  (215257, 105)\n",
      "Testing data shape:  (92254, 105)\n"
     ]
    },
    {
     "data": {
      "text/html": [
       "<div>\n",
       "<style scoped>\n",
       "    .dataframe tbody tr th:only-of-type {\n",
       "        vertical-align: middle;\n",
       "    }\n",
       "\n",
       "    .dataframe tbody tr th {\n",
       "        vertical-align: top;\n",
       "    }\n",
       "\n",
       "    .dataframe thead th {\n",
       "        text-align: right;\n",
       "    }\n",
       "</style>\n",
       "<table border=\"1\" class=\"dataframe\">\n",
       "  <thead>\n",
       "    <tr style=\"text-align: right;\">\n",
       "      <th></th>\n",
       "      <th>SK_ID_CURR</th>\n",
       "      <th>TARGET</th>\n",
       "    </tr>\n",
       "  </thead>\n",
       "  <tbody>\n",
       "    <tr>\n",
       "      <th>0</th>\n",
       "      <td>342180</td>\n",
       "      <td>0.081685</td>\n",
       "    </tr>\n",
       "    <tr>\n",
       "      <th>1</th>\n",
       "      <td>259636</td>\n",
       "      <td>0.064739</td>\n",
       "    </tr>\n",
       "    <tr>\n",
       "      <th>2</th>\n",
       "      <td>305882</td>\n",
       "      <td>0.077060</td>\n",
       "    </tr>\n",
       "    <tr>\n",
       "      <th>3</th>\n",
       "      <td>243264</td>\n",
       "      <td>0.063606</td>\n",
       "    </tr>\n",
       "    <tr>\n",
       "      <th>4</th>\n",
       "      <td>264946</td>\n",
       "      <td>0.064830</td>\n",
       "    </tr>\n",
       "  </tbody>\n",
       "</table>\n",
       "</div>"
      ],
      "text/plain": [
       "   SK_ID_CURR    TARGET\n",
       "0      342180  0.081685\n",
       "1      259636  0.064739\n",
       "2      305882  0.077060\n",
       "3      243264  0.063606\n",
       "4      264946  0.064830"
      ]
     },
     "execution_count": 104,
     "metadata": {},
     "output_type": "execute_result"
    }
   ],
   "source": [
    "from sklearn.preprocessing import MinMaxScaler\n",
    "from sklearn.impute import SimpleImputer\n",
    "from sklearn.linear_model import LogisticRegression\n",
    "from sklearn.model_selection import train_test_split\n",
    "import pandas as pd\n",
    "\n",
    "app_train = pd.read_csv('data/application_train_split.csv')\n",
    "app_test = pd.read_csv('data/application_test_split.csv')\n",
    "\n",
    "# Drop the target from the training data\n",
    "if 'TARGET' in app_train:\n",
    "    train = app_train.drop(columns = ['TARGET'])\n",
    "    train_labels = app_train['TARGET']\n",
    "else:\n",
    "    train = app_train.copy()\n",
    "\n",
    "# Séparer les colonnes numériques et non numériques\n",
    "numeric_cols = train.select_dtypes(include=['number']).columns\n",
    "categorical_cols = train.select_dtypes(exclude=['number']).columns\n",
    "\n",
    "# Imputation des valeurs manquantes pour les colonnes numériques\n",
    "imputer = SimpleImputer(strategy='median')\n",
    "train_numeric = imputer.fit_transform(train[numeric_cols])\n",
    "test_numeric = imputer.transform(app_test[numeric_cols])\n",
    "\n",
    "# Normalisation des colonnes numériques\n",
    "scaler = MinMaxScaler(feature_range=(0, 1))\n",
    "train_numeric = scaler.fit_transform(train_numeric)\n",
    "test_numeric = scaler.transform(test_numeric)\n",
    "\n",
    "# Pour simplifier, on ignore les colonnes catégorielles ici\n",
    "# Vous pouvez appliquer un encodage (OneHotEncoder) si besoin\n",
    "train_final = pd.DataFrame(train_numeric, columns=numeric_cols)\n",
    "test_final = pd.DataFrame(test_numeric, columns=numeric_cols)\n",
    "\n",
    "# Créer et entraîner le modèle\n",
    "log_reg = LogisticRegression(C=0.0001)\n",
    "log_reg.fit(train_final, train_labels)\n",
    "\n",
    "# Faire des prédictions\n",
    "log_reg_pred = log_reg.predict_proba(test_final)[:, 1]\n",
    "\n",
    "# Créer le DataFrame de soumission\n",
    "submit = app_test[['SK_ID_CURR']]\n",
    "submit['TARGET'] = log_reg_pred\n",
    "\n",
    "submit.head()\n"
   ]
  },
  {
   "cell_type": "markdown",
   "id": "40f90fe8-b379-4fb2-9f90-1e169a65c26f",
   "metadata": {},
   "source": [
    "# Random Forest"
   ]
  },
  {
   "cell_type": "code",
   "execution_count": 134,
   "id": "39a5bcdf-cab0-4821-94cb-cfe584d40f84",
   "metadata": {},
   "outputs": [
    {
     "name": "stderr",
     "output_type": "stream",
     "text": [
      "[Parallel(n_jobs=-1)]: Using backend ThreadingBackend with 16 concurrent workers.\n",
      "[Parallel(n_jobs=-1)]: Done  18 tasks      | elapsed:    1.4s\n",
      "[Parallel(n_jobs=-1)]: Done 100 out of 100 | elapsed:    4.9s finished\n",
      "[Parallel(n_jobs=16)]: Using backend ThreadingBackend with 16 concurrent workers.\n",
      "[Parallel(n_jobs=16)]: Done  18 tasks      | elapsed:    0.0s\n",
      "[Parallel(n_jobs=16)]: Done 100 out of 100 | elapsed:    0.2s finished\n"
     ]
    },
    {
     "name": "stdout",
     "output_type": "stream",
     "text": [
      "Prédictions:\n",
      "   SK_ID_CURR  TARGET\n",
      "0      342180    0.18\n",
      "1      259636    0.05\n",
      "2      305882    0.10\n",
      "3      243264    0.03\n",
      "4      264946    0.04\n"
     ]
    }
   ],
   "source": [
    "from sklearn.ensemble import RandomForestClassifier\n",
    "from sklearn.impute import SimpleImputer\n",
    "from sklearn.preprocessing import LabelEncoder\n",
    "import pandas as pd\n",
    "\n",
    "# Charger les données\n",
    "app_train = pd.read_csv('data/application_train_split.csv')\n",
    "app_test = pd.read_csv('data/application_test_split.csv')\n",
    "\n",
    "# Convertir toutes les colonnes en numériques en utilisant LabelEncoder\n",
    "label_encoders = {}\n",
    "for col in app_train.columns:\n",
    "    if app_train[col].dtype == 'object':\n",
    "        le = LabelEncoder()\n",
    "        app_train[col] = le.fit_transform(app_train[col].astype(str))\n",
    "        if col in app_test.columns:\n",
    "            app_test[col] = le.transform(app_test[col].astype(str))\n",
    "        label_encoders[col] = le\n",
    "\n",
    "# Séparer les données d'entraînement et les labels\n",
    "if 'TARGET' in app_train:\n",
    "    train = app_train.drop(columns=['TARGET'])\n",
    "    train_labels = app_train['TARGET']\n",
    "else:\n",
    "    train = app_train.copy()\n",
    "    train_labels = None\n",
    "\n",
    "# Préparer les données de test sans l'identifiant\n",
    "test = app_test.drop(columns=['SK_ID_CURR'])\n",
    "\n",
    "# S'assurer que les colonnes sont alignées avant l'imputation\n",
    "common_cols = train.columns.intersection(test.columns)\n",
    "train = train[common_cols]\n",
    "test = test[common_cols]\n",
    "\n",
    "# Imputer les valeurs manquantes avec la médiane\n",
    "imputer = SimpleImputer(strategy='median')\n",
    "train = imputer.fit_transform(train)\n",
    "test = imputer.transform(test)\n",
    "\n",
    "# Créer le modèle RandomForest\n",
    "random_forest = RandomForestClassifier(n_estimators=100, random_state=50, verbose=1, n_jobs=-1)\n",
    "\n",
    "# Entraîner le modèle\n",
    "random_forest.fit(train, train_labels)\n",
    "\n",
    "# Extraire l'importance des caractéristiques\n",
    "feature_importance_values = random_forest.feature_importances_\n",
    "feature_importances = pd.DataFrame({'feature': common_cols, 'importance': feature_importance_values})\n",
    "\n",
    "# Faire des prédictions\n",
    "predictions = random_forest.predict_proba(test)[:, 1]\n",
    "\n",
    "# Créer le DataFrame de soumission\n",
    "submit = pd.DataFrame({'SK_ID_CURR': app_test['SK_ID_CURR'], 'TARGET': predictions})\n",
    "\n",
    "print(\"Prédictions:\")\n",
    "print(submit.head())\n"
   ]
  },
  {
   "cell_type": "code",
   "execution_count": null,
   "id": "e33b3cd7-0081-494c-87f1-1034f30dd197",
   "metadata": {},
   "outputs": [],
   "source": []
  }
 ],
 "metadata": {
  "kernelspec": {
   "display_name": "Python 3 (ipykernel)",
   "language": "python",
   "name": "python3"
  },
  "language_info": {
   "codemirror_mode": {
    "name": "ipython",
    "version": 3
   },
   "file_extension": ".py",
   "mimetype": "text/x-python",
   "name": "python",
   "nbconvert_exporter": "python",
   "pygments_lexer": "ipython3",
   "version": "3.11.7"
  }
 },
 "nbformat": 4,
 "nbformat_minor": 5
}
